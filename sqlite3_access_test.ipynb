{
 "cells": [
  {
   "cell_type": "code",
   "execution_count": 1,
   "metadata": {},
   "outputs": [
    {
     "name": "stdout",
     "output_type": "stream",
     "text": [
      "[(1, 'fjnfhnygbw'), (2, 'kbjadacgks'), (3, 'emjgwduxul'), (4, 'nyjgxbxpcz'), (5, 'dsgiclmugu'), (6, 'gvbziglrfb'), (7, 'lvzwdkzmqt'), (8, 'pjugwrdenm'), (9, 'buozpmrfbe'), (10, 'xxykgpixgt'), (11, 'rmuxtwafvz'), (12, 'lpkpotmpbh'), (13, 'hfopfqkyxt'), (14, 'lxiyvlmwmd'), (15, 'nnthqavwgw'), (16, 'tboyieqbld'), (17, 'snpnvtcdlg'), (18, 'hxmdabyses'), (19, 'cxbxxlhred'), (20, 'utiqdesssh'), (21, 'hhjdtvenft'), (22, 'lcfinjewiw'), (23, 'zgwffvtwye'), (24, 'kariqgfawx'), (25, 'zqxjkapfht'), (26, 'roulsrlitb'), (27, 'xzvuhybjat'), (28, 'wkcqlwbmjw'), (29, 'cvilnstmhw'), (30, 'itemjtlndz'), (31, 'ddlnnlfxtz'), (32, 'ogaoktonhs'), (33, 'fsnvkzwtkz'), (34, 'fakminzhle'), (35, 'merqomjlfd'), (36, 'dvsozgjkmo'), (37, 'julltukwrp'), (38, 'ruwvfmaxxj'), (39, 'aeonggjfmu'), (40, 'kvjzyilpej'), (41, 'riqnvhryeb'), (42, 'zxizgfnwja'), (43, 'yshwptrvtg'), (44, 'uujmnrmgan'), (45, 'jvkvbqodzy'), (46, 'uvyuvavnis'), (47, 'cpgzvnybsk'), (48, 'mvfssfkowd'), (49, 'diekifqrjg'), (50, 'gtkpmgmaix'), (51, 'wptywcjkjn'), (52, 'nlfwiukvyq'), (53, 'amqswuocnb'), (54, 'wkcnaduwvr'), (55, 'framjnvtig'), (56, 'nmtdxjqdkc'), (57, 'nxjrtespyn'), (58, 'cjbjlsoqhl'), (59, 'lodljpykfh'), (60, 'nxilxnyrxc'), (61, 'rwbqlwdpzr'), (62, 'yzujjujdsd'), (63, 'jzkmrcvnnx'), (64, 'ytxnnvcbdj'), (65, 'vkpzshhwth'), (66, 'ggfaulfinn'), (67, 'fgnkhsvnth'), (68, 'zaxnhzwjkj'), (69, 'dzzaidzexj'), (70, 'pcaiafdyfm'), (71, 'zabgqwcpyn'), (72, 'zbhhsniiml'), (73, 'zuihxlilhh'), (74, 'rdsbrilrrp'), (75, 'ceddafozjd'), (76, 'ylvokxkakz'), (77, 'pxjojaukgx'), (78, 'bqmdbfzmmt'), (79, 'qcbvbazxrv'), (80, 'gkrnlebysb'), (81, 'ylxezzcxgq'), (82, 'nrwbsdqvtm'), (83, 'uohourxwmx'), (84, 'gwwsamzlvy'), (85, 'arzkfihlhu'), (86, 'skhcvnciyr'), (87, 'sarqxnwxyl'), (88, 'ruycbessxg'), (89, 'unreetdrqr'), (90, 'ylsfxupfpd'), (91, 'lulypvcxba'), (92, 'eladofsnzk'), (93, 'syzrchrakz'), (94, 'hjmepjcidw'), (95, 'caklklunsq'), (96, 'vgxxsyfyxr'), (97, 'pabnnpsbla'), (98, 'vmphhydhkl'), (99, 'upgwthboev'), (100, 'glbcqdngkf')]\n"
     ]
    }
   ],
   "source": [
    "import sqlite3\n",
    "import string\n",
    "import random\n",
    "\n",
    "db = sqlite3.connect('./test.db')\n",
    "cur = db.cursor()\n",
    "print([row for row in cur.execute(\"SELECT * FROM testing\")])\n",
    "cur.close()"
   ]
  },
  {
   "cell_type": "code",
   "execution_count": null,
   "metadata": {},
   "outputs": [],
   "source": []
  }
 ],
 "metadata": {
  "kernelspec": {
   "display_name": "Python 3",
   "language": "python",
   "name": "python3"
  },
  "language_info": {
   "codemirror_mode": {
    "name": "ipython",
    "version": 3
   },
   "file_extension": ".py",
   "mimetype": "text/x-python",
   "name": "python",
   "nbconvert_exporter": "python",
   "pygments_lexer": "ipython3",
   "version": "3.7.5"
  }
 },
 "nbformat": 4,
 "nbformat_minor": 2
}
